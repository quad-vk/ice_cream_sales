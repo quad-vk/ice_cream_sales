{
 "cells": [
  {
   "cell_type": "code",
   "execution_count": 103,
   "id": "07700ce9",
   "metadata": {},
   "outputs": [],
   "source": [
    "import pandas as pd\n",
    "import numpy as np\n",
    "from pandasql import sqldf"
   ]
  },
  {
   "cell_type": "code",
   "execution_count": 104,
   "id": "b5662c4d",
   "metadata": {},
   "outputs": [],
   "source": [
    "df = pd.read_csv('ice_cream_sales.csv')"
   ]
  },
  {
   "cell_type": "raw",
   "id": "10102778",
   "metadata": {},
   "source": [
    "Колонки\n",
    "\n",
    "temp - температура\n",
    "weekday - день недели (начиная 1-воскресенье)\n",
    "cost - себестоимость\n",
    "price - цена\n",
    "sales - продажи в штуках"
   ]
  },
  {
   "cell_type": "markdown",
   "id": "6d3a3ab8",
   "metadata": {},
   "source": [
    "**0.1** Вывести размер датафрейма"
   ]
  },
  {
   "cell_type": "code",
   "execution_count": null,
   "id": "767f0e14",
   "metadata": {},
   "outputs": [],
   "source": []
  },
  {
   "cell_type": "markdown",
   "id": "da9660b0",
   "metadata": {},
   "source": [
    "**0.2** Вывести memory usage датафрейма"
   ]
  },
  {
   "cell_type": "code",
   "execution_count": null,
   "id": "91482412",
   "metadata": {},
   "outputs": [],
   "source": []
  },
  {
   "cell_type": "markdown",
   "id": "f89d121f",
   "metadata": {},
   "source": [
    "**0.3** Вывести количество пустых ячеек в датафрейме"
   ]
  },
  {
   "cell_type": "code",
   "execution_count": null,
   "id": "e994a489",
   "metadata": {},
   "outputs": [],
   "source": []
  },
  {
   "cell_type": "markdown",
   "id": "afdbdd9e",
   "metadata": {},
   "source": [
    "**0.4** Создать датафрейм df_names из словаря icecream_names, где ключами является тип мороженого (name), \n",
    "а значениями - себестоимость (cost)\n",
    "\n",
    "icecream_names = {'A': 1.5, 'B': 1, 'C': 0.5, 'D': 0.3}"
   ]
  },
  {
   "cell_type": "code",
   "execution_count": null,
   "id": "8d7e6e28",
   "metadata": {},
   "outputs": [],
   "source": []
  },
  {
   "cell_type": "markdown",
   "id": "1ae83881",
   "metadata": {},
   "source": [
    "Следующий блок заданий нужно решить с помощью SQL и pandas"
   ]
  },
  {
   "cell_type": "raw",
   "id": "94580703",
   "metadata": {},
   "source": [
    "Пример работы с pandasql\n",
    "\n",
    "q = '''\n",
    "select max(sales)\n",
    "from df\n",
    "\n",
    "'''\n",
    "\n",
    "sqldf(q)"
   ]
  },
  {
   "cell_type": "markdown",
   "id": "609b32ea",
   "metadata": {},
   "source": [
    "**1.1** Найти день недели с самым большим перепадом температур. Pandas, SQL."
   ]
  },
  {
   "cell_type": "code",
   "execution_count": 2,
   "id": "5bbfffc7",
   "metadata": {},
   "outputs": [],
   "source": [
    "#pandas \n"
   ]
  },
  {
   "cell_type": "code",
   "execution_count": 3,
   "id": "ffdc187c",
   "metadata": {},
   "outputs": [],
   "source": [
    "#sql\n"
   ]
  },
  {
   "cell_type": "markdown",
   "id": "15287cf8",
   "metadata": {},
   "source": [
    "**1.2** Найти день недели с максимальным количеством продаж мороженого А. Pandas, SQL."
   ]
  },
  {
   "cell_type": "code",
   "execution_count": 4,
   "id": "bcd43c6f",
   "metadata": {},
   "outputs": [],
   "source": [
    "#pandas \n"
   ]
  },
  {
   "cell_type": "code",
   "execution_count": 5,
   "id": "1a81bee9",
   "metadata": {},
   "outputs": [],
   "source": [
    "#sql\n"
   ]
  },
  {
   "cell_type": "markdown",
   "id": "40a7cecc",
   "metadata": {},
   "source": [
    "**1.3** Посчитать среднюю маржу (margin = price - cost) по дням недели и типу мороженого. Pandas, SQL."
   ]
  },
  {
   "cell_type": "code",
   "execution_count": 6,
   "id": "00663a4d",
   "metadata": {},
   "outputs": [],
   "source": [
    "#pandas\n"
   ]
  },
  {
   "cell_type": "code",
   "execution_count": 7,
   "id": "593f37ae",
   "metadata": {},
   "outputs": [],
   "source": [
    "# sql\n"
   ]
  },
  {
   "cell_type": "markdown",
   "id": "1be2e5bd",
   "metadata": {},
   "source": [
    "Следующие задания можно выполнять любым способом, они не имеют однозначно правильного ответа"
   ]
  },
  {
   "cell_type": "markdown",
   "id": "39fac913",
   "metadata": {},
   "source": [
    "**2.1** Есть ли связь между ценой мороженого и продажами?"
   ]
  },
  {
   "cell_type": "code",
   "execution_count": null,
   "id": "98fa4de2",
   "metadata": {},
   "outputs": [],
   "source": []
  },
  {
   "cell_type": "markdown",
   "id": "38e4757e",
   "metadata": {},
   "source": [
    "**2.2** Есть ли связь между днем недели, температурой и продажами?"
   ]
  },
  {
   "cell_type": "code",
   "execution_count": null,
   "id": "a1d834dc",
   "metadata": {},
   "outputs": [],
   "source": []
  },
  {
   "cell_type": "markdown",
   "id": "1b10ed97",
   "metadata": {},
   "source": [
    "**2.3** Построить линейную регрессию, предсказывающую продажи мороженого"
   ]
  },
  {
   "cell_type": "code",
   "execution_count": null,
   "id": "9dace4a9",
   "metadata": {},
   "outputs": [],
   "source": []
  }
 ],
 "metadata": {
  "kernelspec": {
   "display_name": "Python 3 (ipykernel)",
   "language": "python",
   "name": "python3"
  },
  "language_info": {
   "codemirror_mode": {
    "name": "ipython",
    "version": 3
   },
   "file_extension": ".py",
   "mimetype": "text/x-python",
   "name": "python",
   "nbconvert_exporter": "python",
   "pygments_lexer": "ipython3",
   "version": "3.9.12"
  }
 },
 "nbformat": 4,
 "nbformat_minor": 5
}
